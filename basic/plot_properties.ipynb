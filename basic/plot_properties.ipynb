{
  "nbformat_minor": 0, 
  "nbformat": 4, 
  "cells": [
    {
      "execution_count": null, 
      "cell_type": "code", 
      "source": [
        "%matplotlib inline"
      ], 
      "outputs": [], 
      "metadata": {
        "collapsed": false
      }
    }, 
    {
      "source": [
        "\n# Properties\n\n\nCompute some network properties for the lollipop graph.\n\n"
      ], 
      "cell_type": "markdown", 
      "metadata": {}
    }, 
    {
      "execution_count": null, 
      "cell_type": "code", 
      "source": [
        "#    Copyright (C) 2004-2017 by\n#    Aric Hagberg <hagberg@lanl.gov>\n#    Dan Schult <dschult@colgate.edu>\n#    Pieter Swart <swart@lanl.gov>\n#    All rights reserved.\n#    BSD license.\n\nimport matplotlib.pyplot as plt\nfrom networkx import nx\n\nG = nx.lollipop_graph(4, 6)\n\npathlengths = []\n\nprint(\"source vertex {target:length, }\")\nfor v in G.nodes():\n    spl = dict(nx.single_source_shortest_path_length(G, v))\n    print('{} {} '.format(v, spl))\n    for p in spl:\n        pathlengths.append(spl[p])\n\nprint('')\nprint(\"average shortest path length %s\" % (sum(pathlengths) / len(pathlengths)))\n\n# histogram of path lengths\ndist = {}\nfor p in pathlengths:\n    if p in dist:\n        dist[p] += 1\n    else:\n        dist[p] = 1\n\nprint('')\nprint(\"length #paths\")\nverts = dist.keys()\nfor d in sorted(verts):\n    print('%s %d' % (d, dist[d]))\n\nprint(\"radius: %d\" % nx.radius(G))\nprint(\"diameter: %d\" % nx.diameter(G))\nprint(\"eccentricity: %s\" % nx.eccentricity(G))\nprint(\"center: %s\" % nx.center(G))\nprint(\"periphery: %s\" % nx.periphery(G))\nprint(\"density: %s\" % nx.density(G))\n\nnx.draw(G, with_labels=True)\nplt.show()"
      ], 
      "outputs": [], 
      "metadata": {
        "collapsed": false
      }
    }
  ], 
  "metadata": {
    "kernelspec": {
      "display_name": "Python 2", 
      "name": "python2", 
      "language": "python"
    }, 
    "language_info": {
      "mimetype": "text/x-python", 
      "nbconvert_exporter": "python", 
      "name": "python", 
      "file_extension": ".py", 
      "version": "2.7.12", 
      "pygments_lexer": "ipython2", 
      "codemirror_mode": {
        "version": 2, 
        "name": "ipython"
      }
    }
  }
}