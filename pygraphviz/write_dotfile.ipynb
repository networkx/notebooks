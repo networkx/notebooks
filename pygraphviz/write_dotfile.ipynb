{
 "cells": [
  {
   "cell_type": "code",
   "execution_count": null,
   "metadata": {
    "collapsed": false,
    "deletable": true,
    "editable": true
   },
   "outputs": [],
   "source": [
    "%matplotlib inline"
   ]
  },
  {
   "cell_type": "markdown",
   "metadata": {
    "deletable": true,
    "editable": true
   },
   "source": [
    "\n",
    "# Write Dotfile\n",
    "\n",
    "\n",
    "\n",
    "Write a dot file from a networkx graph for further processing with graphviz.\n",
    "\n",
    "You need to have either pygraphviz or pydot for this example.\n",
    "\n",
    "See http://networkx.readthedocs.io/en/latest/reference/drawing.html\n",
    "for more info.\n",
    "\n",
    "\n"
   ]
  },
  {
   "cell_type": "code",
   "execution_count": null,
   "metadata": {
    "collapsed": false,
    "deletable": true,
    "editable": true
   },
   "outputs": [],
   "source": [
    "# Author: Aric Hagberg (hagberg@lanl.gov)\n",
    "\n",
    "#    Copyright (C) 2004-2017 by\n",
    "#    Aric Hagberg <hagberg@lanl.gov>\n",
    "#    Dan Schult <dschult@colgate.edu>\n",
    "#    Pieter Swart <swart@lanl.gov>\n",
    "#    All rights reserved.\n",
    "#    BSD license.\n",
    "\n",
    "import networkx as nx\n",
    "\n",
    "# and the following code block is not needed\n",
    "# but we want to see which module is used and\n",
    "# if and why it fails\n",
    "try:\n",
    "    import pygraphviz\n",
    "    from networkx.drawing.nx_agraph import write_dot\n",
    "    print(\"using package pygraphviz\")\n",
    "except ImportError:\n",
    "    try:\n",
    "        import pydot\n",
    "        from networkx.drawing.nx_pydot import write_dot\n",
    "        print(\"using package pydot\")\n",
    "    except ImportError:\n",
    "        print()\n",
    "        print(\"Both pygraphviz and pydot were not found \")\n",
    "        print(\"see  http://networkx.readthedocs.io/en\"\n",
    "              \"/latest/reference/drawing.html for info\")\n",
    "        print()\n",
    "        raise\n",
    "\n",
    "G = nx.grid_2d_graph(5, 5)  # 5x5 grid\n",
    "write_dot(G, \"grid.dot\")\n",
    "print(\"Now run: neato -Tps grid.dot >grid.ps\")"
   ]
  }
 ],
 "metadata": {
  "kernelspec": {
   "display_name": "Python 3",
   "language": "python",
   "name": "python3"
  },
  "language_info": {
   "codemirror_mode": {
    "name": "ipython",
    "version": 3
   },
   "file_extension": ".py",
   "mimetype": "text/x-python",
   "name": "python",
   "nbconvert_exporter": "python",
   "pygments_lexer": "ipython3",
   "version": "3.6.0"
  }
 },
 "nbformat": 4,
 "nbformat_minor": 0
}
