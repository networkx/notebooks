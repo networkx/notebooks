{
 "cells": [
  {
   "cell_type": "markdown",
   "metadata": {},
   "source": [
    "Complement graph class for small footprint when working on dense graphs.\n",
    "This class allows you to add the edges that *do not exist* in the dense \n",
    "graph. However, when applying algorithms to this complement graph data \n",
    "structure, it behaves as if it were the dense version. So it can be used\n",
    "directly in several NetworkX algorithms.\n",
    "This subclass has only been tested for k-core, connected_components,\n",
    "and biconnected_components algorithms but might also work for other\n",
    "algorithms.\n",
    "\n",
    "   \n",
    "Copyright (C) 2015 by\n",
    "\n",
    "Jordi Torrents <jtorrents@milnou.net>\n",
    "\n",
    "All rights reserved.\n",
    "\n",
    "BSD license."
   ]
  },
  {
   "cell_type": "code",
   "execution_count": null,
   "metadata": {},
   "outputs": [],
   "source": [
    "import networkx as nx"
   ]
  },
  {
   "cell_type": "code",
   "execution_count": null,
   "metadata": {},
   "outputs": [],
   "source": [
    "from networkx.exception import NetworkXError"
   ]
  },
  {
   "cell_type": "code",
   "execution_count": null,
   "metadata": {},
   "outputs": [],
   "source": [
    "class AntiGraph(nx.Graph):\n",
    "    \"\"\"\n",
    "    Class for complement graphs.\n",
    "    The main goal is to be able to work with big and dense graphs with\n",
    "    a low memory foodprint.\n",
    "    In this class you add the edges that *do not exist* in the dense graph,\n",
    "    the report methods of the class return the neighbors, the edges and \n",
    "    the degree as if it was the dense graph. Thus it's possible to use\n",
    "    an instance of this class with some of NetworkX functions. \n",
    "    \"\"\"\n",
    "\n",
    "    all_edge_dict = {'weight': 1}\n",
    "    def single_edge_dict(self):\n",
    "        return self.all_edge_dict\n",
    "    edge_attr_dict_factory = single_edge_dict\n",
    "\n",
    "    def __getitem__(self, n):\n",
    "        \"\"\"Return a dict of neighbors of node n in the dense graph.\n",
    "        Parameters\n",
    "        ----------\n",
    "        n : node\n",
    "           A node in the graph.\n",
    "        Returns\n",
    "        -------\n",
    "        adj_dict : dictionary\n",
    "           The adjacency dictionary for nodes connected to n.\n",
    "        \"\"\"\n",
    "        return dict((node, self.all_edge_dict) for node in\n",
    "                    set(self.adj) - set(self.adj[n]) - set([n]))\n",
    "\n",
    "    def neighbors(self, n):\n",
    "        \"\"\"Return an iterator over all neighbors of node n in the \n",
    "           dense graph.\n",
    "        \"\"\"\n",
    "        try:\n",
    "            return iter(set(self.adj) - set(self.adj[n]) - set([n]))\n",
    "        except KeyError:\n",
    "            raise NetworkXError(\"The node %s is not in the graph.\"%(n,))\n",
    "\n",
    "    def degree(self, nbunch=None, weight=None):\n",
    "        \"\"\"Return an iterator for (node, degree) or degree for single node.\n",
    "        The node degree is the number of edges adjacent to the node.\n",
    "        Parameters\n",
    "        ----------\n",
    "        nbunch : iterable container, optional (default=all nodes)\n",
    "            A container of nodes.  The container will be iterated\n",
    "            through once.\n",
    "        weight : string or None, optional (default=None)\n",
    "           The edge attribute that holds the numerical value used \n",
    "           as a weight.  If None, then each edge has weight 1.\n",
    "           The degree is the sum of the edge weights adjacent to the node.\n",
    "        Returns\n",
    "        -------\n",
    "        deg:\n",
    "            Degree of the node, if a single node is passed as argument.\n",
    "        OR\n",
    "        nd_iter : an iterator\n",
    "            The iterator returns two-tuples of (node, degree).\n",
    "        See Also\n",
    "        --------\n",
    "        degree\n",
    "        Examples\n",
    "        --------\n",
    "        >>> G = nx.Graph()   # or DiGraph, MultiGraph, MultiDiGraph, etc\n",
    "        >>> G.add_path([0,1,2,3])\n",
    "        >>> G.degree(0) # node 0 with degree 1\n",
    "        1\n",
    "        >>> list(G.degree([0,1]))\n",
    "        [(0, 1), (1, 2)]\n",
    "        \"\"\"\n",
    "        if nbunch in self:\n",
    "            nbrs = {v: self.all_edge_dict for v in set(self.adj) - \\\n",
    "                    set(self.adj[nbunch]) - set([nbunch])}\n",
    "            if weight is None:\n",
    "                return len(nbrs) + (nbunch in nbrs)\n",
    "            return sum((nbrs[nbr].get(weight, 1) for nbr in nbrs)) + \\\n",
    "                              (nbunch in nbrs and nbrs[nbunch].get(weight, 1))\n",
    "\n",
    "        if nbunch is None:\n",
    "            nodes_nbrs = ((n, {v: self.all_edge_dict for v in\n",
    "                            set(self.adj) - set(self.adj[n]) - set([n])})\n",
    "                            for n in self.nodes())\n",
    "        else:\n",
    "            nodes_nbrs = ((n, {v: self.all_edge_dict for v in\n",
    "                            set(self.nodes()) - set(self.adj[n]) - set([n])})\n",
    "                            for n in self.nbunch_iter(nbunch))\n",
    "\n",
    "        if weight is None:\n",
    "            def d_iter():\n",
    "                for n,nbrs in nodes_nbrs:\n",
    "                    yield (n,len(nbrs)+(n in nbrs)) # return tuple (n,degree)\n",
    "        else:\n",
    "            def d_iter():\n",
    "                # AntiGraph is a ThinGraph so all edges have weight 1\n",
    "                for n,nbrs in nodes_nbrs:\n",
    "                    yield (n, sum((nbrs[nbr].get(weight, 1) for nbr in nbrs)) +\n",
    "                                  (n in nbrs and nbrs[n].get(weight, 1)))\n",
    "        return d_iter()\n",
    "\n",
    "    def adjacency(self):\n",
    "        \"\"\"Return an iterator of (node, adjacency set) tuples for all nodes\n",
    "           in the dense graph.\n",
    "        This is the fastest way to look at every edge.\n",
    "        For directed graphs, only outgoing adjacencies are included.\n",
    "        Returns\n",
    "        -------\n",
    "        adj_iter : iterator\n",
    "           An iterator of (node, adjacency set) for all nodes in\n",
    "           the graph.\n",
    "        \"\"\"\n",
    "        for n in self.adj:\n",
    "            yield (n, set(self.adj) - set(self.adj[n]) - set([n]))"
   ]
  },
  {
   "cell_type": "code",
   "execution_count": null,
   "metadata": {},
   "outputs": [],
   "source": [
    "Gnp = nx.gnp_random_graph(20,0.8)"
   ]
  },
  {
   "cell_type": "code",
   "execution_count": null,
   "metadata": {},
   "outputs": [],
   "source": [
    "Anp = AntiGraph(nx.complement(Gnp))"
   ]
  },
  {
   "cell_type": "code",
   "execution_count": null,
   "metadata": {},
   "outputs": [],
   "source": [
    "Gd = nx.davis_southern_women_graph()"
   ]
  },
  {
   "cell_type": "code",
   "execution_count": null,
   "metadata": {},
   "outputs": [],
   "source": [
    "Ad = AntiGraph(nx.complement(Gd))"
   ]
  },
  {
   "cell_type": "code",
   "execution_count": null,
   "metadata": {},
   "outputs": [],
   "source": [
    "Gk = nx.karate_club_graph()"
   ]
  },
  {
   "cell_type": "code",
   "execution_count": null,
   "metadata": {},
   "outputs": [],
   "source": [
    "Ak = AntiGraph(nx.complement(Gk))"
   ]
  },
  {
   "cell_type": "code",
   "execution_count": null,
   "metadata": {},
   "outputs": [],
   "source": [
    "pairs = [(Gnp, Anp), (Gd, Ad), (Gk, Ak)]"
   ]
  },
  {
   "cell_type": "code",
   "execution_count": null,
   "metadata": {},
   "outputs": [],
   "source": [
    "for G, A in pairs:\n",
    "    gc = [set(c) for c in nx.connected_components(G)]\n",
    "    ac = [set(c) for c in nx.connected_components(A)]\n",
    "    for comp in ac:\n",
    "        assert comp in gc"
   ]
  },
  {
   "cell_type": "code",
   "execution_count": null,
   "metadata": {},
   "outputs": [],
   "source": [
    "for G, A in pairs:\n",
    "    gc = [set(c) for c in nx.biconnected_components(G)]\n",
    "    ac = [set(c) for c in nx.biconnected_components(A)]\n",
    "    for comp in ac:\n",
    "        assert comp in gc"
   ]
  },
  {
   "cell_type": "code",
   "execution_count": null,
   "metadata": {},
   "outputs": [],
   "source": [
    "for G, A in pairs:\n",
    "    node = list(G.nodes())[0]\n",
    "    nodes = list(G.nodes())[1:4]\n",
    "    assert G.degree(node) == A.degree(node)\n",
    "    assert sum(d for n, d in G.degree()) == sum(d for n, d in A.degree())\n",
    "    assert sum(d for n, d in A.degree()) == sum(d for n, d in A.degree(weight='weight'))\n",
    "    assert sum(d for n, d in G.degree(nodes)) == sum(d for n, d in A.degree(nodes))"
   ]
  }
 ],
 "metadata": {
  "kernelspec": {
   "display_name": "Python 3",
   "language": "python",
   "name": "python3"
  },
  "language_info": {
   "codemirror_mode": {
    "name": "ipython",
    "version": 3
   },
   "file_extension": ".py",
   "mimetype": "text/x-python",
   "name": "python",
   "nbconvert_exporter": "python",
   "pygments_lexer": "ipython3",
   "version": "3.8.6"
  }
 },
 "nbformat": 4,
 "nbformat_minor": 1
}
