{
 "cells": [
  {
   "cell_type": "markdown",
   "metadata": {},
   "source": [
    "# Random (Erdős-Rényi) Graphs"
   ]
  },
  {
   "cell_type": "markdown",
   "metadata": {},
   "source": [
    "Create an G{n,m} random graph with n nodes and m edges\n",
    "and report some properties.\n",
    "This graph is sometimes called the Erdős-Rényi graph\n",
    "but is different from G{n,p} or binomial_graph which is also\n",
    "sometimes called the Erdős-Rényi graph.\n",
    "\n",
    "Copyright (C) 2004-2015 by\n",
    "\n",
    "Aric Hagberg <hagberg@lanl.gov>\n",
    "\n",
    "Dan Schult <dschult@colgate.edu>\n",
    "\n",
    "Pieter Swart <swart@lanl.gov>\n",
    "\n",
    "All rights reserved.\n",
    "\n",
    "BSD license."
   ]
  },
  {
   "cell_type": "code",
   "execution_count": null,
   "metadata": {},
   "outputs": [],
   "source": [
    "import networkx as nx"
   ]
  },
  {
   "cell_type": "code",
   "execution_count": null,
   "metadata": {},
   "outputs": [],
   "source": [
    "%matplotlib inline"
   ]
  },
  {
   "cell_type": "code",
   "execution_count": null,
   "metadata": {},
   "outputs": [],
   "source": [
    "G = nx.gnm_random_graph(10, 20)   # 10 nodes and 20 edges"
   ]
  },
  {
   "cell_type": "code",
   "execution_count": null,
   "metadata": {},
   "outputs": [],
   "source": [
    "for v in G.nodes():   # Some properties of the graph\n",
    "    print(v, G.degree(v), nx.clustering(G,v))"
   ]
  },
  {
   "cell_type": "code",
   "execution_count": null,
   "metadata": {},
   "outputs": [],
   "source": [
    "list(G.adjacency())  # adjacency list of the graph"
   ]
  },
  {
   "cell_type": "code",
   "execution_count": null,
   "metadata": {},
   "outputs": [],
   "source": [
    "nx.draw(G)"
   ]
  }
 ],
 "metadata": {
  "kernelspec": {
   "display_name": "Python 3",
   "language": "python",
   "name": "python3"
  },
  "language_info": {
   "codemirror_mode": {
    "name": "ipython",
    "version": 3
   },
   "file_extension": ".py",
   "mimetype": "text/x-python",
   "name": "python",
   "nbconvert_exporter": "python",
   "pygments_lexer": "ipython3",
   "version": "3.8.6"
  }
 },
 "nbformat": 4,
 "nbformat_minor": 1
}
