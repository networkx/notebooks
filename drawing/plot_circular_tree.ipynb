{
  "nbformat_minor": 0, 
  "nbformat": 4, 
  "cells": [
    {
      "execution_count": null, 
      "cell_type": "code", 
      "source": [
        "%matplotlib inline"
      ], 
      "outputs": [], 
      "metadata": {
        "collapsed": false
      }
    }, 
    {
      "source": [
        "\n# Circular Tree\n\n\nThis\n\n"
      ], 
      "cell_type": "markdown", 
      "metadata": {}
    }, 
    {
      "execution_count": null, 
      "cell_type": "code", 
      "source": [
        "import matplotlib.pyplot as plt\nimport networkx as nx\n\ntry:\n    import pygraphviz\n    from networkx.drawing.nx_agraph import graphviz_layout\nexcept ImportError:\n    try:\n        import pydot\n        from networkx.drawing.nx_pydot import graphviz_layout\n    except ImportError:\n        raise ImportError(\"This example needs Graphviz and either \"\n                          \"PyGraphviz or pydot\")\n\nG = nx.balanced_tree(3, 5)\npos = graphviz_layout(G, prog='twopi', args='')\nplt.figure(figsize=(8, 8))\nnx.draw(G, pos, node_size=20, alpha=0.5, node_color=\"blue\", with_labels=False)\nplt.axis('equal')\nplt.show()"
      ], 
      "outputs": [], 
      "metadata": {
        "collapsed": false
      }
    }
  ], 
  "metadata": {
    "kernelspec": {
      "display_name": "Python 2", 
      "name": "python2", 
      "language": "python"
    }, 
    "language_info": {
      "mimetype": "text/x-python", 
      "nbconvert_exporter": "python", 
      "name": "python", 
      "file_extension": ".py", 
      "version": "2.7.12", 
      "pygments_lexer": "ipython2", 
      "codemirror_mode": {
        "version": 2, 
        "name": "ipython"
      }
    }
  }
}