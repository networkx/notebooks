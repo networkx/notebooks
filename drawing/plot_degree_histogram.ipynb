{
  "nbformat_minor": 0, 
  "nbformat": 4, 
  "cells": [
    {
      "execution_count": null, 
      "cell_type": "code", 
      "source": [
        "%matplotlib inline"
      ], 
      "outputs": [], 
      "metadata": {
        "collapsed": false
      }
    }, 
    {
      "source": [
        "\n# Degree histogram\n\n\nDraw degree histogram with matplotlib.\nRandom graph shown as inset\n\n"
      ], 
      "cell_type": "markdown", 
      "metadata": {}
    }, 
    {
      "execution_count": null, 
      "cell_type": "code", 
      "source": [
        "import collections\nimport matplotlib.pyplot as plt\nimport networkx as nx\n\nG = nx.gnp_random_graph(100, 0.02)\n\ndegree_sequence = sorted([d for n, d in G.degree()], reverse=True)  # degree sequence\n# print \"Degree sequence\", degree_sequence\ndegreeCount = collections.Counter(degree_sequence)\ndeg, cnt = zip(*degreeCount.items())\n\nfig, ax = plt.subplots()\nplt.bar(deg, cnt, width=0.80, color='b')\n\nplt.title(\"Degree Histogram\")\nplt.ylabel(\"Count\")\nplt.xlabel(\"Degree\")\nax.set_xticks([d + 0.4 for d in deg])\nax.set_xticklabels(deg)\n\n# draw graph in inset\nplt.axes([0.4, 0.4, 0.5, 0.5])\nGcc = sorted(nx.connected_component_subgraphs(G), key=len, reverse=True)[0]\npos = nx.spring_layout(G)\nplt.axis('off')\nnx.draw_networkx_nodes(G, pos, node_size=20)\nnx.draw_networkx_edges(G, pos, alpha=0.4)\n\nplt.show()"
      ], 
      "outputs": [], 
      "metadata": {
        "collapsed": false
      }
    }
  ], 
  "metadata": {
    "kernelspec": {
      "display_name": "Python 2", 
      "name": "python2", 
      "language": "python"
    }, 
    "language_info": {
      "mimetype": "text/x-python", 
      "nbconvert_exporter": "python", 
      "name": "python", 
      "file_extension": ".py", 
      "version": "2.7.12", 
      "pygments_lexer": "ipython2", 
      "codemirror_mode": {
        "version": 2, 
        "name": "ipython"
      }
    }
  }
}