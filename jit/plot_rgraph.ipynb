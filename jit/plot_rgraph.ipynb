{
  "nbformat_minor": 0, 
  "nbformat": 4, 
  "cells": [
    {
      "execution_count": null, 
      "cell_type": "code", 
      "source": [
        "%matplotlib inline"
      ], 
      "outputs": [], 
      "metadata": {
        "collapsed": false
      }
    }, 
    {
      "source": [
        "\n# Rgraph\n\n\nAn example showing how to use the JavaScript InfoVis Toolkit (JIT)\nJSON export\n\nSee the JIT documentation and examples at http://thejit.org\n\n\n"
      ], 
      "cell_type": "markdown", 
      "metadata": {}
    }, 
    {
      "execution_count": null, 
      "cell_type": "code", 
      "source": [
        "__author__ = \"\"\"Ollie Glass (ollieglaskovik@gmail.com)\"\"\"\n\nimport json\n\nimport matplotlib.pyplot as plt\nimport networkx as nx\nfrom networkx.readwrite.json_graph import jit_data, jit_graph\n\n# add some nodes to a graph\nG = nx.Graph()\n\nG.add_node(\"one\", type=\"normal\")\nG.add_node(\"two\", type=\"special\")\nG.add_node(\"solo\")\n\n# add edges\nG.add_edge(\"one\", \"two\")\nG.add_edge(\"two\", 3, type=\"extra special\")\n\n# convert to JIT JSON\njit_json = jit_data(G, indent=4)\nprint(jit_json)\n\nX = jit_graph(json.loads(jit_json))\nprint(\"Nodes: %s\" % list(X.nodes(data=True)))\nprint(\"Edges: %s\" % list(X.edges(data=True)))\n\nnx.draw(G, with_labels=True)\nplt.show()"
      ], 
      "outputs": [], 
      "metadata": {
        "collapsed": false
      }
    }
  ], 
  "metadata": {
    "kernelspec": {
      "display_name": "Python 2", 
      "name": "python2", 
      "language": "python"
    }, 
    "language_info": {
      "mimetype": "text/x-python", 
      "nbconvert_exporter": "python", 
      "name": "python", 
      "file_extension": ".py", 
      "version": "2.7.12", 
      "pygments_lexer": "ipython2", 
      "codemirror_mode": {
        "version": 2, 
        "name": "ipython"
      }
    }
  }
}