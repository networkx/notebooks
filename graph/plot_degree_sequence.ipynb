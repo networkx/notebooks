{
  "nbformat_minor": 0, 
  "nbformat": 4, 
  "cells": [
    {
      "execution_count": null, 
      "cell_type": "code", 
      "source": [
        "%matplotlib inline"
      ], 
      "outputs": [], 
      "metadata": {
        "collapsed": false
      }
    }, 
    {
      "source": [
        "\n# Degree Sequence\n\n\nRandom graph from given degree sequence.\n\n"
      ], 
      "cell_type": "markdown", 
      "metadata": {}
    }, 
    {
      "execution_count": null, 
      "cell_type": "code", 
      "source": [
        "# Author: Aric Hagberg (hagberg@lanl.gov)\n# Date: 2004-11-03 08:11:09 -0700 (Wed, 03 Nov 2004)\n# Revision: 503\n\n#    Copyright (C) 2004-2017 by\n#    Aric Hagberg <hagberg@lanl.gov>\n#    Dan Schult <dschult@colgate.edu>\n#    Pieter Swart <swart@lanl.gov>\n#    All rights reserved.\n#    BSD license.\n\nimport matplotlib.pyplot as plt\nfrom networkx import nx\n\nz = [5, 3, 3, 3, 3, 2, 2, 2, 1, 1, 1]\nprint(nx.is_graphical(z))\n\nprint(\"Configuration model\")\nG = nx.configuration_model(z)  # configuration model\ndegree_sequence = [d for n, d in G.degree()]  # degree sequence\nprint(\"Degree sequence %s\" % degree_sequence)\nprint(\"Degree histogram\")\nhist = {}\nfor d in degree_sequence:\n    if d in hist:\n        hist[d] += 1\n    else:\n        hist[d] = 1\nprint(\"degree #nodes\")\nfor d in hist:\n    print('%d %d' % (d, hist[d]))\n\nnx.draw(G)\nplt.show()"
      ], 
      "outputs": [], 
      "metadata": {
        "collapsed": false
      }
    }
  ], 
  "metadata": {
    "kernelspec": {
      "display_name": "Python 2", 
      "name": "python2", 
      "language": "python"
    }, 
    "language_info": {
      "mimetype": "text/x-python", 
      "nbconvert_exporter": "python", 
      "name": "python", 
      "file_extension": ".py", 
      "version": "2.7.12", 
      "pygments_lexer": "ipython2", 
      "codemirror_mode": {
        "version": 2, 
        "name": "ipython"
      }
    }
  }
}