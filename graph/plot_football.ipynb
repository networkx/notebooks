{
  "nbformat_minor": 0, 
  "nbformat": 4, 
  "cells": [
    {
      "execution_count": null, 
      "cell_type": "code", 
      "source": [
        "%matplotlib inline"
      ], 
      "outputs": [], 
      "metadata": {
        "collapsed": false
      }
    }, 
    {
      "source": [
        "\n# Football\n\n\nLoad football network in GML format and compute some network statistcs.\n\nShows how to download GML graph in a zipped file, unpack it, and load\ninto a NetworkX graph.\n\nRequires Internet connection to download the URL\nhttp://www-personal.umich.edu/~mejn/netdata/football.zip\n\n"
      ], 
      "cell_type": "markdown", 
      "metadata": {}
    }, 
    {
      "execution_count": null, 
      "cell_type": "code", 
      "source": [
        "# Author: Aric Hagberg (hagberg@lanl.gov)\n\n#    Copyright (C) 2007-2017 by\n#    Aric Hagberg <hagberg@lanl.gov>\n#    Dan Schult <dschult@colgate.edu>\n#    Pieter Swart <swart@lanl.gov>\n#    All rights reserved.\n#    BSD license.\n\ntry:  # Python 3.x\n    import urllib.request as urllib\nexcept ImportError:  # Python 2.x\n    import urllib\nimport io\nimport zipfile\n\nimport matplotlib.pyplot as plt\nimport networkx as nx\n\nurl = \"http://www-personal.umich.edu/~mejn/netdata/football.zip\"\n\nsock = urllib.urlopen(url)  # open URL\ns = io.BytesIO(sock.read())  # read into BytesIO \"file\"\nsock.close()\n\nzf = zipfile.ZipFile(s)  # zipfile object\ntxt = zf.read('football.txt').decode()  # read info file\ngml = zf.read('football.gml').decode()  # read gml data\n# throw away bogus first line with # from mejn files\ngml = gml.split('\\n')[1:]\nG = nx.parse_gml(gml)  # parse gml data\n\nprint(txt)\n# print degree for each team - number of games\nfor n, d in G.degree():\n    print('%s %d' % (n, d))\n\nnx.draw(G)\nplt.show()"
      ], 
      "outputs": [], 
      "metadata": {
        "collapsed": false
      }
    }
  ], 
  "metadata": {
    "kernelspec": {
      "display_name": "Python 2", 
      "name": "python2", 
      "language": "python"
    }, 
    "language_info": {
      "mimetype": "text/x-python", 
      "nbconvert_exporter": "python", 
      "name": "python", 
      "file_extension": ".py", 
      "version": "2.7.12", 
      "pygments_lexer": "ipython2", 
      "codemirror_mode": {
        "version": 2, 
        "name": "ipython"
      }
    }
  }
}