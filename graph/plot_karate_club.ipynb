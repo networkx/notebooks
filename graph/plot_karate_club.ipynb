{
  "nbformat_minor": 0, 
  "nbformat": 4, 
  "cells": [
    {
      "execution_count": null, 
      "cell_type": "code", 
      "source": [
        "%matplotlib inline"
      ], 
      "outputs": [], 
      "metadata": {
        "collapsed": false
      }
    }, 
    {
      "source": [
        "\n# Karate Club\n\n\nZachary's Karate Club graph\n\nData file from:\nhttp://vlado.fmf.uni-lj.si/pub/networks/data/Ucinet/UciData.htm\n\nReference:\nZachary W. (1977).\nAn information flow model for conflict and fission in small groups.\nJournal of Anthropological Research, 33, 452-473.\n\n"
      ], 
      "cell_type": "markdown", 
      "metadata": {}
    }, 
    {
      "execution_count": null, 
      "cell_type": "code", 
      "source": [
        "import matplotlib.pyplot as plt\nimport networkx as nx\n\nG = nx.karate_club_graph()\nprint(\"Node Degree\")\nfor v in G:\n    print('%s %s' % (v, G.degree(v)))\n\nnx.draw_circular(G, with_labels=True)\nplt.show()"
      ], 
      "outputs": [], 
      "metadata": {
        "collapsed": false
      }
    }
  ], 
  "metadata": {
    "kernelspec": {
      "display_name": "Python 2", 
      "name": "python2", 
      "language": "python"
    }, 
    "language_info": {
      "mimetype": "text/x-python", 
      "nbconvert_exporter": "python", 
      "name": "python", 
      "file_extension": ".py", 
      "version": "2.7.12", 
      "pygments_lexer": "ipython2", 
      "codemirror_mode": {
        "version": 2, 
        "name": "ipython"
      }
    }
  }
}