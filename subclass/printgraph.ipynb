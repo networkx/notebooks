{
 "cells": [
  {
   "cell_type": "markdown",
   "metadata": {},
   "source": [
    "Example subclass of the Graph class."
   ]
  },
  {
   "cell_type": "markdown",
   "metadata": {},
   "source": [
    "Copyright (C) 2004-2015 by\n",
    "\n",
    "Aric Hagberg <hagberg@lanl.gov>\n",
    "\n",
    "Dan Schult <dschult@colgate.edu>\n",
    "\n",
    "Pieter Swart <swart@lanl.gov>\n",
    "\n",
    "All rights reserved.\n",
    "\n",
    "BSD license."
   ]
  },
  {
   "cell_type": "code",
   "execution_count": null,
   "metadata": {},
   "outputs": [],
   "source": [
    "from networkx import Graph"
   ]
  },
  {
   "cell_type": "code",
   "execution_count": null,
   "metadata": {},
   "outputs": [],
   "source": [
    "from networkx.exception import NetworkXException, NetworkXError"
   ]
  },
  {
   "cell_type": "code",
   "execution_count": null,
   "metadata": {},
   "outputs": [],
   "source": [
    "import networkx.convert as convert"
   ]
  },
  {
   "cell_type": "code",
   "execution_count": null,
   "metadata": {},
   "outputs": [],
   "source": [
    "from copy import deepcopy"
   ]
  },
  {
   "cell_type": "code",
   "execution_count": null,
   "metadata": {},
   "outputs": [],
   "source": [
    "class PrintGraph(Graph):\n",
    "    \"\"\"\n",
    "    Example subclass of the Graph class.\n",
    "    Prints activity log to file or standard output.\n",
    "    \"\"\"\n",
    "    def __init__(self, data=None, name='', file=None, **attr):\n",
    "        Graph.__init__(self, data=data, name=name, **attr)\n",
    "        if file is None:\n",
    "            import sys\n",
    "            self.fh=sys.stdout\n",
    "        else:\n",
    "            self.fh=open(file,'w')\n",
    "\n",
    "    def add_node(self, n, attr_dict=None, **attr):\n",
    "        Graph.add_node(self, n, attr_dict=attr_dict, **attr)\n",
    "        self.fh.write(\"Add node: %s\\n\"%n)\n",
    "\n",
    "    def add_nodes_from(self, nodes, **attr):\n",
    "        for n in nodes:\n",
    "            self.add_node(n, **attr)\n",
    "\n",
    "    def remove_node(self, n):\n",
    "        Graph.remove_node(self, n)\n",
    "        self.fh.write(\"Remove node: %s\\n\"%n)\n",
    "\n",
    "    def remove_nodes_from(self, nodes):\n",
    "        adj = self.adj\n",
    "        for n in nodes:\n",
    "            self.remove_node(n)\n",
    "\n",
    "    def add_edge(self, u, v, attr_dict=None, **attr):  \n",
    "        Graph.add_edge(self, u, v, attr_dict=attr_dict, **attr)\n",
    "        self.fh.write(\"Add edge: %s-%s\\n\"%(u,v))\n",
    "\n",
    "    def add_edges_from(self, ebunch, attr_dict=None, **attr):  \n",
    "        for e in ebunch:\n",
    "            u,v=e[0:2]\n",
    "            self.add_edge(u, v, attr_dict=attr_dict, **attr)\n",
    "\n",
    "    def remove_edge(self, u, v): \n",
    "        Graph.remove_edge(self, u, v)\n",
    "        self.fh.write(\"Remove edge: %s-%s\\n\"%(u, v))\n",
    "\n",
    "    def remove_edges_from(self, ebunch): \n",
    "        for e in ebunch:\n",
    "            u,v=e[0:2]\n",
    "            self.remove_edge(u, v)\n",
    "\n",
    "    def clear(self):\n",
    "        self.name = ''\n",
    "        self.adj.clear() \n",
    "        self.node.clear()\n",
    "        self.graph.clear()\n",
    "        self.fh.write(\"Clear graph\\n\")\n",
    "\n",
    "    def subgraph(self, nbunch, copy=True):\n",
    "        # subgraph is needed here since it can destroy edges in the\n",
    "        # graph (copy=False) and we want to keep track of all changes.\n",
    "        #\n",
    "        # Also for copy=True Graph() uses dictionary assignment for speed\n",
    "        # Here we use H.add_edge()\n",
    "        bunch = set(self.nbunch_iter(nbunch))\n",
    "\n",
    "        if not copy: \n",
    "            # remove all nodes (and attached edges) not in nbunch\n",
    "            self.remove_nodes_from([n for n in self if n not in bunch])\n",
    "            self.name = \"Subgraph of (%s)\"%(self.name)\n",
    "            return self\n",
    "        else:\n",
    "            # create new graph and copy subgraph into it       \n",
    "            H = self.__class__()\n",
    "            H.name = \"Subgraph of (%s)\"%(self.name)\n",
    "            # add nodes\n",
    "            H.add_nodes_from(bunch)\n",
    "            # add edges\n",
    "            seen = set()\n",
    "            for u, nbrs in self.adjacency():\n",
    "                if u in bunch:\n",
    "                    for v, datadict in nbrs.items():\n",
    "                        if v in bunch and v not in seen:\n",
    "                            dd = deepcopy(datadict)\n",
    "                            H.add_edge(u, v, dd)\n",
    "                    seen.add(u)\n",
    "            # copy node and graph attr dicts\n",
    "            H.node = dict( (n, deepcopy(d)) \n",
    "                         for (n, d) in self.node.items() if n in H)\n",
    "            H.graph = deepcopy(self.graph)\n",
    "            return H"
   ]
  },
  {
   "cell_type": "code",
   "execution_count": null,
   "metadata": {},
   "outputs": [],
   "source": [
    "G = PrintGraph()"
   ]
  },
  {
   "cell_type": "code",
   "execution_count": null,
   "metadata": {},
   "outputs": [],
   "source": [
    "G.add_node('foo')"
   ]
  },
  {
   "cell_type": "code",
   "execution_count": null,
   "metadata": {},
   "outputs": [],
   "source": [
    "G.add_nodes_from('bar', weight=8)"
   ]
  },
  {
   "cell_type": "code",
   "execution_count": null,
   "metadata": {},
   "outputs": [],
   "source": [
    "G.remove_node('b')"
   ]
  },
  {
   "cell_type": "code",
   "execution_count": null,
   "metadata": {},
   "outputs": [],
   "source": [
    "G.remove_nodes_from('ar')"
   ]
  },
  {
   "cell_type": "code",
   "execution_count": null,
   "metadata": {},
   "outputs": [],
   "source": [
    "list(G.nodes(data=True))"
   ]
  },
  {
   "cell_type": "code",
   "execution_count": null,
   "metadata": {},
   "outputs": [],
   "source": [
    "G.add_edge(0, 1, weight=10)"
   ]
  },
  {
   "cell_type": "code",
   "execution_count": null,
   "metadata": {},
   "outputs": [],
   "source": [
    "list(G.edges(data=True))"
   ]
  },
  {
   "cell_type": "code",
   "execution_count": null,
   "metadata": {},
   "outputs": [],
   "source": [
    "G.remove_edge(0, 1)"
   ]
  },
  {
   "cell_type": "code",
   "execution_count": null,
   "metadata": {},
   "outputs": [],
   "source": [
    "G.add_edges_from(list(zip(list(range(0o3)), list(range(1, 4)))), weight=10)"
   ]
  },
  {
   "cell_type": "code",
   "execution_count": null,
   "metadata": {},
   "outputs": [],
   "source": [
    "list(G.edges(data=True))"
   ]
  },
  {
   "cell_type": "code",
   "execution_count": null,
   "metadata": {},
   "outputs": [],
   "source": [
    "G.remove_edges_from(list(zip(list(range(0o3)), list(range(1, 4)))))"
   ]
  },
  {
   "cell_type": "code",
   "execution_count": null,
   "metadata": {},
   "outputs": [],
   "source": [
    "list(G.edges(data=True))"
   ]
  },
  {
   "cell_type": "code",
   "execution_count": null,
   "metadata": {},
   "outputs": [],
   "source": [
    "G = PrintGraph()"
   ]
  },
  {
   "cell_type": "code",
   "execution_count": null,
   "metadata": {},
   "outputs": [],
   "source": [
    "G.add_path(list(range(10)))"
   ]
  },
  {
   "cell_type": "code",
   "execution_count": null,
   "metadata": {},
   "outputs": [],
   "source": [
    "H1=G.subgraph(list(range(4)), copy=False)"
   ]
  },
  {
   "cell_type": "code",
   "execution_count": null,
   "metadata": {},
   "outputs": [],
   "source": [
    "list(H1.edges())"
   ]
  }
 ],
 "metadata": {
  "kernelspec": {
   "display_name": "Python 3",
   "language": "python",
   "name": "python3"
  },
  "language_info": {
   "codemirror_mode": {
    "name": "ipython",
    "version": 3
   },
   "file_extension": ".py",
   "mimetype": "text/x-python",
   "name": "python",
   "nbconvert_exporter": "python",
   "pygments_lexer": "ipython3",
   "version": "3.8.6"
  }
 },
 "nbformat": 4,
 "nbformat_minor": 1
}
